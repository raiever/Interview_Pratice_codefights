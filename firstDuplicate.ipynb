{
 "cells": [
  {
   "cell_type": "markdown",
   "metadata": {},
   "source": [
    "### Given an array a that contains only numbers in the range from 1 to a.length, find the first duplicate number for which the second occurrence has the minimal index. In other words, if there are more than 1 duplicated numbers, return the number for which the second occurrence has a smaller index than the second occurrence of the other number does. If there are no such elements, return -1.\n",
    "\n",
    "Example\n",
    "\n",
    "For a = [2, 1, 3, 5, 3, 2], the output should be\n",
    "firstDuplicate(a) = 3.\n",
    "\n",
    "There are 2 duplicates: numbers 2 and 3. The second occurrence of 3 has a smaller index than the second occurrence of 2 does, so the answer is 3.\n",
    "\n",
    "For a = [2, 4, 3, 5, 1], the output should be\n",
    "firstDuplicate(a) = -1.\n",
    "\n",
    "Input/Output\n",
    "\n",
    "[execution time limit] 4 seconds (py3)\n",
    "\n",
    "[input] array.integer a\n",
    "\n",
    "Guaranteed constraints:\n",
    "1 ≤ a.length ≤ 105,\n",
    "1 ≤ a[i] ≤ a.length.\n",
    "\n",
    "[output] integer\n",
    "\n",
    "The element in a that occurs in the array more than once and has the minimal index for its second occurrence. If there are no such elements, return -1."
   ]
  },
  {
   "cell_type": "code",
   "execution_count": 208,
   "metadata": {},
   "outputs": [],
   "source": [
    "a = [2, 1, 3, 5, 3, 2]"
   ]
  },
  {
   "cell_type": "code",
   "execution_count": 174,
   "metadata": {},
   "outputs": [
    {
     "data": {
      "text/plain": [
       "6"
      ]
     },
     "execution_count": 174,
     "metadata": {},
     "output_type": "execute_result"
    }
   ],
   "source": [
    "len(a)"
   ]
  },
  {
   "cell_type": "code",
   "execution_count": 175,
   "metadata": {
    "collapsed": true
   },
   "outputs": [],
   "source": [
    "seen = [0, 0, 0, 0, 0, 0, 0]"
   ]
  },
  {
   "cell_type": "code",
   "execution_count": 176,
   "metadata": {},
   "outputs": [
    {
     "data": {
      "text/plain": [
       "[0, 0, 0, 0, 0, 0]"
      ]
     },
     "execution_count": 176,
     "metadata": {},
     "output_type": "execute_result"
    }
   ],
   "source": [
    "[0 for i in range(len(a))]"
   ]
  },
  {
   "cell_type": "code",
   "execution_count": 177,
   "metadata": {},
   "outputs": [
    {
     "data": {
      "text/plain": [
       "5"
      ]
     },
     "execution_count": 177,
     "metadata": {},
     "output_type": "execute_result"
    }
   ],
   "source": [
    "max(a)"
   ]
  },
  {
   "cell_type": "code",
   "execution_count": 178,
   "metadata": {},
   "outputs": [
    {
     "data": {
      "text/plain": [
       "range(0, 6)"
      ]
     },
     "execution_count": 178,
     "metadata": {},
     "output_type": "execute_result"
    }
   ],
   "source": [
    "range(len(a))"
   ]
  },
  {
   "cell_type": "code",
   "execution_count": 179,
   "metadata": {},
   "outputs": [
    {
     "name": "stdout",
     "output_type": "stream",
     "text": [
      "6\n",
      "[0, 0, 1, 0, 0, 0]\n",
      "[0, 1, 1, 0, 0, 0]\n",
      "[0, 1, 1, 1, 0, 0]\n",
      "[0, 1, 1, 1, 0, 1]\n",
      "3\n"
     ]
    }
   ],
   "source": [
    "if len(a) >= max(a):\n",
    "    limit = len(a)\n",
    "else:\n",
    "    limit = max(a)\n",
    "print(limit)\n",
    "seen = [0 for i in range(limit)]\n",
    "for i in range(max(a)):\n",
    "    ind = a[i]\n",
    "    if seen[ind] == 0:\n",
    "        seen[ind] = 1\n",
    "        print(seen)\n",
    "    else:\n",
    "        print(ind)\n",
    "        break"
   ]
  },
  {
   "cell_type": "code",
   "execution_count": 64,
   "metadata": {},
   "outputs": [
    {
     "data": {
      "text/plain": [
       "[0, 0, 0, 0, 0, 0, 0]"
      ]
     },
     "execution_count": 64,
     "metadata": {},
     "output_type": "execute_result"
    }
   ],
   "source": [
    "seen"
   ]
  },
  {
   "cell_type": "code",
   "execution_count": 57,
   "metadata": {},
   "outputs": [
    {
     "data": {
      "text/plain": [
       "({1, 2, 3, 5}, 4)"
      ]
     },
     "execution_count": 57,
     "metadata": {},
     "output_type": "execute_result"
    }
   ],
   "source": [
    "set(a), len(set(a))"
   ]
  },
  {
   "cell_type": "code",
   "execution_count": 58,
   "metadata": {},
   "outputs": [
    {
     "data": {
      "text/plain": [
       "(2, -2)"
      ]
     },
     "execution_count": 58,
     "metadata": {},
     "output_type": "execute_result"
    }
   ],
   "source": [
    "a[0], -a[0]"
   ]
  },
  {
   "cell_type": "code",
   "execution_count": 8,
   "metadata": {},
   "outputs": [
    {
     "data": {
      "text/plain": [
       "[3, 2]"
      ]
     },
     "execution_count": 8,
     "metadata": {},
     "output_type": "execute_result"
    }
   ],
   "source": [
    "for i in list(set(a)):\n",
    "    a.remove(i)\n",
    "a"
   ]
  },
  {
   "cell_type": "code",
   "execution_count": 201,
   "metadata": {},
   "outputs": [],
   "source": [
    "def firstDuplicate(a):\n",
    "    if len(a) >= max(a):\n",
    "        limit = len(a)\n",
    "    else:\n",
    "        limit = max(a)\n",
    "    print(limit)\n",
    "    seen = [0 for i in range(limit+1)]\n",
    "    print('len:', len(seen))\n",
    "\n",
    "    if len(set(a)) == len(a):\n",
    "        return -1\n",
    "    else:\n",
    "        for i in range(limit):\n",
    "            ind = a[i]\n",
    "            if seen[ind] == 0:\n",
    "                seen[ind] = 1\n",
    "            else:\n",
    "                print(ind)\n",
    "                break"
   ]
  },
  {
   "cell_type": "code",
   "execution_count": 202,
   "metadata": {
    "collapsed": true
   },
   "outputs": [],
   "source": [
    "import json"
   ]
  },
  {
   "cell_type": "code",
   "execution_count": 203,
   "metadata": {},
   "outputs": [
    {
     "data": {
      "text/plain": [
       "'{\\n  \"input\": {\\n    \"a\": [\\n      25291,\\n      10593,\\n      48905,\\n      90778,\\n      4254,\\n      9208'"
      ]
     },
     "execution_count": 203,
     "metadata": {},
     "output_type": "execute_result"
    }
   ],
   "source": [
    "(open('/Users/sunghwan/Downloads/test-21.json', encoding='utf-8-sig')).read()[:100]"
   ]
  },
  {
   "cell_type": "code",
   "execution_count": 204,
   "metadata": {},
   "outputs": [],
   "source": [
    "data = json.loads((open('/Users/sunghwan/Downloads/test-21.json', encoding='utf-8-sig')).read())"
   ]
  },
  {
   "cell_type": "code",
   "execution_count": 205,
   "metadata": {},
   "outputs": [],
   "source": [
    "test_list = data['input']['a']"
   ]
  },
  {
   "cell_type": "code",
   "execution_count": 206,
   "metadata": {},
   "outputs": [
    {
     "data": {
      "text/plain": [
       "100000"
      ]
     },
     "execution_count": 206,
     "metadata": {},
     "output_type": "execute_result"
    }
   ],
   "source": [
    "len(test_list)"
   ]
  },
  {
   "cell_type": "code",
   "execution_count": 207,
   "metadata": {},
   "outputs": [
    {
     "name": "stdout",
     "output_type": "stream",
     "text": [
      "100000\n",
      "len: 100001\n",
      "33978\n",
      "CPU times: user 28.7 ms, sys: 2.5 ms, total: 31.2 ms\n",
      "Wall time: 30.1 ms\n"
     ]
    }
   ],
   "source": [
    "%%time\n",
    "firstDuplicate(test_list)"
   ]
  },
  {
   "cell_type": "code",
   "execution_count": 209,
   "metadata": {},
   "outputs": [
    {
     "name": "stdout",
     "output_type": "stream",
     "text": [
      "6\n",
      "len: 7\n",
      "3\n"
     ]
    }
   ],
   "source": [
    "firstDuplicate(a)"
   ]
  },
  {
   "cell_type": "markdown",
   "metadata": {},
   "source": [
    "### Final Answer"
   ]
  },
  {
   "cell_type": "code",
   "execution_count": 210,
   "metadata": {
    "collapsed": true
   },
   "outputs": [],
   "source": [
    "def firstDuplicate(a):\n",
    "    if len(a) >= max(a):\n",
    "        limit = len(a)\n",
    "    else:\n",
    "        limit = max(a)\n",
    "    seen = [0 for i in range(limit+1)]\n",
    "\n",
    "    if len(set(a)) == len(a):\n",
    "        return -1\n",
    "    else:\n",
    "        for i in range(limit+1):\n",
    "            ind = a[i]\n",
    "            if seen[ind] == 0:\n",
    "                seen[ind] = 1\n",
    "            else:\n",
    "                return ind\n",
    "                break"
   ]
  },
  {
   "cell_type": "code",
   "execution_count": null,
   "metadata": {
    "collapsed": true
   },
   "outputs": [],
   "source": []
  }
 ],
 "metadata": {
  "kernelspec": {
   "display_name": "Python [Root]",
   "language": "python",
   "name": "Python [Root]"
  },
  "language_info": {
   "codemirror_mode": {
    "name": "ipython",
    "version": 3
   },
   "file_extension": ".py",
   "mimetype": "text/x-python",
   "name": "python",
   "nbconvert_exporter": "python",
   "pygments_lexer": "ipython3",
   "version": "3.5.3"
  }
 },
 "nbformat": 4,
 "nbformat_minor": 2
}
