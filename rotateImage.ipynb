{
 "cells": [
  {
   "cell_type": "markdown",
   "metadata": {},
   "source": [
    "Note: Try to solve this task in-place (with O(1) additional memory), since this is what you'll be asked to do during an interview.\n",
    "\n",
    "You are given an n x n 2D matrix that represents an image. Rotate the image by 90 degrees (clockwise).\n",
    "\n",
    "Example\n",
    "\n",
    "For\n",
    "\n",
    "a = [[1, 2, 3],\n",
    "     [4, 5, 6],\n",
    "     [7, 8, 9]]\n",
    "the output should be\n",
    "\n",
    "rotateImage(a) =\n",
    "    [[7, 4, 1],\n",
    "     [8, 5, 2],\n",
    "     [9, 6, 3]]\n",
    "Input/Output\n",
    "\n",
    "[execution time limit] 4 seconds (py3)\n",
    "\n",
    "[input] array.array.integer a\n",
    "\n",
    "Guaranteed constraints:\n",
    "1 ≤ a.length ≤ 100,\n",
    "a[i].length = a.length,\n",
    "1 ≤ a[i][j] ≤ 104.\n",
    "\n",
    "[output] array.array.integer"
   ]
  },
  {
   "cell_type": "code",
   "execution_count": 1,
   "metadata": {
    "collapsed": true
   },
   "outputs": [],
   "source": [
    "a = [[1, 2, 3],\n",
    "     [4, 5, 6],\n",
    "     [7, 8, 9]]"
   ]
  },
  {
   "cell_type": "code",
   "execution_count": 11,
   "metadata": {
    "collapsed": true
   },
   "outputs": [],
   "source": [
    "b = [[1, 2, 3, 4],\n",
    "     [4, 5, 6, 7],\n",
    "     [7, 8, 9, 10],\n",
    "     [11, 12, 13, 14]]"
   ]
  },
  {
   "cell_type": "code",
   "execution_count": 9,
   "metadata": {},
   "outputs": [
    {
     "data": {
      "text/plain": [
       "(list, 3)"
      ]
     },
     "execution_count": 9,
     "metadata": {},
     "output_type": "execute_result"
    }
   ],
   "source": [
    "type(a), len(a)"
   ]
  },
  {
   "cell_type": "code",
   "execution_count": 2,
   "metadata": {},
   "outputs": [
    {
     "data": {
      "text/plain": [
       "[1, 2, 3]"
      ]
     },
     "execution_count": 2,
     "metadata": {},
     "output_type": "execute_result"
    }
   ],
   "source": [
    "a[0]"
   ]
  },
  {
   "cell_type": "code",
   "execution_count": 5,
   "metadata": {},
   "outputs": [
    {
     "data": {
      "text/plain": [
       "(1, 2, 3)"
      ]
     },
     "execution_count": 5,
     "metadata": {},
     "output_type": "execute_result"
    }
   ],
   "source": [
    "a[0][0], a[0][1], a[0][2]"
   ]
  },
  {
   "cell_type": "code",
   "execution_count": 6,
   "metadata": {},
   "outputs": [
    {
     "data": {
      "text/plain": [
       "(4, 5, 6)"
      ]
     },
     "execution_count": 6,
     "metadata": {},
     "output_type": "execute_result"
    }
   ],
   "source": [
    "a[1][0], a[1][1], a[1][2]"
   ]
  },
  {
   "cell_type": "code",
   "execution_count": 10,
   "metadata": {},
   "outputs": [
    {
     "data": {
      "text/plain": [
       "(7, 8, 9)"
      ]
     },
     "execution_count": 10,
     "metadata": {},
     "output_type": "execute_result"
    }
   ],
   "source": [
    "a[2][0], a[2][1], a[2][2]"
   ]
  },
  {
   "cell_type": "code",
   "execution_count": 12,
   "metadata": {},
   "outputs": [
    {
     "data": {
      "text/plain": [
       "(4, 5, 6, 7)"
      ]
     },
     "execution_count": 12,
     "metadata": {},
     "output_type": "execute_result"
    }
   ],
   "source": [
    "b[1][0], b[1][1], b[1][2], b[1][3]"
   ]
  },
  {
   "cell_type": "code",
   "execution_count": null,
   "metadata": {
    "collapsed": true
   },
   "outputs": [],
   "source": [
    "b[0][2], b[1][2], b[2][2], b[3][2]"
   ]
  },
  {
   "cell_type": "code",
   "execution_count": null,
   "metadata": {
    "collapsed": true
   },
   "outputs": [],
   "source": [
    "n=add, "
   ]
  },
  {
   "cell_type": "code",
   "execution_count": null,
   "metadata": {
    "collapsed": true
   },
   "outputs": [],
   "source": [
    "def rotateImage(a):\n",
    "    if len(a) % 2 == 0:"
   ]
  },
  {
   "cell_type": "code",
   "execution_count": 32,
   "metadata": {},
   "outputs": [
    {
     "ename": "SyntaxError",
     "evalue": "invalid syntax (<ipython-input-32-ca8bfb25d431>, line 1)",
     "output_type": "error",
     "traceback": [
      "\u001b[0;36m  File \u001b[0;32m\"<ipython-input-32-ca8bfb25d431>\"\u001b[0;36m, line \u001b[0;32m1\u001b[0m\n\u001b[0;31m    b = [(b[i][i] = 0) for i in range(len(a))]\u001b[0m\n\u001b[0m                  ^\u001b[0m\n\u001b[0;31mSyntaxError\u001b[0m\u001b[0;31m:\u001b[0m invalid syntax\n"
     ]
    }
   ],
   "source": [
    "b = [(b[i][i] = 0) for i in range(len(a))]"
   ]
  },
  {
   "cell_type": "code",
   "execution_count": 30,
   "metadata": {},
   "outputs": [
    {
     "ename": "IndexError",
     "evalue": "list index out of range",
     "output_type": "error",
     "traceback": [
      "\u001b[0;31m---------------------------------------------------------------------------\u001b[0m",
      "\u001b[0;31mIndexError\u001b[0m                                Traceback (most recent call last)",
      "\u001b[0;32m<ipython-input-30-a39134c9377e>\u001b[0m in \u001b[0;36m<module>\u001b[0;34m()\u001b[0m\n\u001b[0;32m----> 1\u001b[0;31m \u001b[0mb\u001b[0m\u001b[0;34m[\u001b[0m\u001b[0;36m0\u001b[0m\u001b[0;34m]\u001b[0m\u001b[0;34m[\u001b[0m\u001b[0;36m0\u001b[0m\u001b[0;34m]\u001b[0m \u001b[0;34m=\u001b[0m \u001b[0;36m1\u001b[0m\u001b[0;34m\u001b[0m\u001b[0m\n\u001b[0m",
      "\u001b[0;31mIndexError\u001b[0m: list index out of range"
     ]
    }
   ],
   "source": [
    "b[0][0] = 1"
   ]
  },
  {
   "cell_type": "code",
   "execution_count": 67,
   "metadata": {
    "collapsed": true
   },
   "outputs": [],
   "source": [
    "import numpy as np\n",
    "import copy"
   ]
  },
  {
   "cell_type": "code",
   "execution_count": 35,
   "metadata": {},
   "outputs": [
    {
     "data": {
      "text/plain": [
       "matrix([[2]])"
      ]
     },
     "execution_count": 35,
     "metadata": {},
     "output_type": "execute_result"
    }
   ],
   "source": [
    "np.matrix()"
   ]
  },
  {
   "cell_type": "code",
   "execution_count": 91,
   "metadata": {
    "collapsed": true
   },
   "outputs": [],
   "source": [
    "a = [[1, 2, 3],\n",
    "     [4, 5, 6],\n",
    "     [7, 8, 9]]"
   ]
  },
  {
   "cell_type": "code",
   "execution_count": 100,
   "metadata": {
    "collapsed": true
   },
   "outputs": [],
   "source": [
    "a = [[1, 2, 3, 4],\n",
    "     [4, 5, 6, 7],\n",
    "     [7, 8, 9, 10],\n",
    "     [11, 12, 13, 14]]"
   ]
  },
  {
   "cell_type": "code",
   "execution_count": 101,
   "metadata": {},
   "outputs": [
    {
     "data": {
      "text/plain": [
       "[[1, 2, 3, 4], [4, 5, 6, 7], [7, 8, 9, 10], [11, 12, 13, 14]]"
      ]
     },
     "execution_count": 101,
     "metadata": {},
     "output_type": "execute_result"
    }
   ],
   "source": [
    "list(a)"
   ]
  },
  {
   "cell_type": "code",
   "execution_count": 102,
   "metadata": {},
   "outputs": [
    {
     "name": "stdout",
     "output_type": "stream",
     "text": [
      "[[1, 2, 3, 4], [4, 5, 6, 7], [7, 8, 9, 10], [11, 12, 13, 14]]\n",
      "0, 0\n",
      "1 [[1, 2, 3, 1], [4, 5, 6, 7], [7, 8, 9, 10], [11, 12, 13, 14]]\n",
      "0, 1\n",
      "2 [[1, 2, 3, 1], [4, 5, 6, 2], [7, 8, 9, 10], [11, 12, 13, 14]]\n",
      "0, 2\n",
      "3 [[1, 2, 3, 1], [4, 5, 6, 2], [7, 8, 9, 3], [11, 12, 13, 14]]\n",
      "0, 3\n",
      "4 [[1, 2, 3, 1], [4, 5, 6, 2], [7, 8, 9, 3], [11, 12, 13, 4]]\n",
      "1, 0\n",
      "4 [[1, 2, 4, 1], [4, 5, 6, 2], [7, 8, 9, 3], [11, 12, 13, 4]]\n",
      "1, 1\n",
      "5 [[1, 2, 4, 1], [4, 5, 5, 2], [7, 8, 9, 3], [11, 12, 13, 4]]\n",
      "1, 2\n",
      "6 [[1, 2, 4, 1], [4, 5, 5, 2], [7, 8, 6, 3], [11, 12, 13, 4]]\n",
      "1, 3\n",
      "7 [[1, 2, 4, 1], [4, 5, 5, 2], [7, 8, 6, 3], [11, 12, 7, 4]]\n",
      "2, 0\n",
      "7 [[1, 7, 4, 1], [4, 5, 5, 2], [7, 8, 6, 3], [11, 12, 7, 4]]\n",
      "2, 1\n",
      "8 [[1, 7, 4, 1], [4, 8, 5, 2], [7, 8, 6, 3], [11, 12, 7, 4]]\n",
      "2, 2\n",
      "9 [[1, 7, 4, 1], [4, 8, 5, 2], [7, 9, 6, 3], [11, 12, 7, 4]]\n",
      "2, 3\n",
      "10 [[1, 7, 4, 1], [4, 8, 5, 2], [7, 9, 6, 3], [11, 10, 7, 4]]\n",
      "3, 0\n",
      "11 [[11, 7, 4, 1], [4, 8, 5, 2], [7, 9, 6, 3], [11, 10, 7, 4]]\n",
      "3, 1\n",
      "12 [[11, 7, 4, 1], [12, 8, 5, 2], [7, 9, 6, 3], [11, 10, 7, 4]]\n",
      "3, 2\n",
      "13 [[11, 7, 4, 1], [12, 8, 5, 2], [13, 9, 6, 3], [11, 10, 7, 4]]\n",
      "3, 3\n",
      "14 [[11, 7, 4, 1], [12, 8, 5, 2], [13, 9, 6, 3], [14, 10, 7, 4]]\n",
      "[[11, 7, 4, 1], [12, 8, 5, 2], [13, 9, 6, 3], [14, 10, 7, 4]]\n"
     ]
    }
   ],
   "source": [
    "b = copy.deepcopy(a)\n",
    "print(b)\n",
    "for i in range(len(a)):\n",
    "    for j in range(len(a)):\n",
    "        print(i, j, sep=', ')\n",
    "        value = a[i][j]\n",
    "        b[j][len(a)-i-1] = value\n",
    "        print(value, b)\n",
    "\n",
    "if (len(a)-1) % 2 == 0:\n",
    "    mid = int((len(a) / 2))\n",
    "    print(mid)\n",
    "    for i in range(len(a)):\n",
    "        b[i][mid] = a[mid][i]\n",
    "\n",
    "print(b)"
   ]
  },
  {
   "cell_type": "code",
   "execution_count": 103,
   "metadata": {},
   "outputs": [
    {
     "data": {
      "text/plain": [
       "[[1, 2, 3, 4], [4, 5, 6, 7], [7, 8, 9, 10], [11, 12, 13, 14]]"
      ]
     },
     "execution_count": 103,
     "metadata": {},
     "output_type": "execute_result"
    }
   ],
   "source": [
    "a"
   ]
  },
  {
   "cell_type": "code",
   "execution_count": 104,
   "metadata": {},
   "outputs": [
    {
     "data": {
      "text/plain": [
       "[[11, 7, 4, 1], [12, 8, 5, 2], [13, 9, 6, 3], [14, 10, 7, 4]]"
      ]
     },
     "execution_count": 104,
     "metadata": {},
     "output_type": "execute_result"
    }
   ],
   "source": [
    "b"
   ]
  },
  {
   "cell_type": "markdown",
   "metadata": {},
   "source": [
    "### Final Answer"
   ]
  },
  {
   "cell_type": "code",
   "execution_count": null,
   "metadata": {
    "collapsed": true
   },
   "outputs": [],
   "source": [
    "def rotateImage(a):\n",
    "    import copy\n",
    "    b = copy.deepcopy(a)\n",
    "    for i in range(len(a)):\n",
    "        for j in range(len(a)):\n",
    "            value = a[i][j]\n",
    "            b[j][len(a)-i-1] = value\n",
    "\n",
    "    if (len(a)-1) % 2 == 0:\n",
    "        mid = int((len(a) / 2))\n",
    "        for i in range(len(a)):\n",
    "            b[i][mid] = a[mid][i]\n",
    "\n",
    "    return b"
   ]
  },
  {
   "cell_type": "markdown",
   "metadata": {},
   "source": [
    "### Best Answer"
   ]
  },
  {
   "cell_type": "code",
   "execution_count": null,
   "metadata": {
    "collapsed": true
   },
   "outputs": [],
   "source": [
    "def rotateImage(a):\n",
    "    return list(zip(*reversed(a)))"
   ]
  },
  {
   "cell_type": "code",
   "execution_count": 109,
   "metadata": {},
   "outputs": [
    {
     "data": {
      "text/plain": [
       "<list_reverseiterator at 0x11098a438>"
      ]
     },
     "execution_count": 109,
     "metadata": {},
     "output_type": "execute_result"
    }
   ],
   "source": [
    "reversed(a)"
   ]
  },
  {
   "cell_type": "code",
   "execution_count": null,
   "metadata": {
    "collapsed": true
   },
   "outputs": [],
   "source": []
  }
 ],
 "metadata": {
  "kernelspec": {
   "display_name": "Python [Root]",
   "language": "python",
   "name": "Python [Root]"
  },
  "language_info": {
   "codemirror_mode": {
    "name": "ipython",
    "version": 3
   },
   "file_extension": ".py",
   "mimetype": "text/x-python",
   "name": "python",
   "nbconvert_exporter": "python",
   "pygments_lexer": "ipython3",
   "version": "3.5.3"
  }
 },
 "nbformat": 4,
 "nbformat_minor": 2
}
